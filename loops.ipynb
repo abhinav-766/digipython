{
 "cells": [
  {
   "cell_type": "code",
   "execution_count": null,
   "metadata": {},
   "outputs": [],
   "source": []
  },
  {
   "cell_type": "markdown",
   "metadata": {},
   "source": [
    "FOR"
   ]
  },
  {
   "cell_type": "markdown",
   "metadata": {},
   "source": [
    "for temp_var in iterable:\n",
    "   statement 1\n",
    "   ....\n",
    "   statement 2\n",
    "\n",
    "   "
   ]
  },
  {
   "cell_type": "code",
   "execution_count": 4,
   "metadata": {},
   "outputs": [
    {
     "name": "stdout",
     "output_type": "stream",
     "text": [
      "1\n",
      "529\n",
      "25\n",
      "36\n",
      "9\n",
      "36\n",
      "441\n",
      "36\n",
      "36\n"
     ]
    }
   ],
   "source": [
    "nums = [1,23,5,6,3,6,21,6,6] #list of numbers\n",
    "for nums in nums:\n",
    "    print(nums ** 2)"
   ]
  },
  {
   "cell_type": "markdown",
   "metadata": {},
   "source": [
    "- enumurate\n",
    "- zip"
   ]
  },
  {
   "cell_type": "code",
   "execution_count": 5,
   "metadata": {},
   "outputs": [
    {
     "name": "stdout",
     "output_type": "stream",
     "text": [
      "(0, 'john')\n",
      "(1, 'jane')\n",
      "(2, 'jack')\n",
      "(3, 'jill')\n"
     ]
    }
   ],
   "source": [
    "names = ['john','jane','jack','jill']\n",
    "for name in enumerate(names):\n",
    "    print(name)"
   ]
  },
  {
   "cell_type": "code",
   "execution_count": 6,
   "metadata": {},
   "outputs": [
    {
     "name": "stdout",
     "output_type": "stream",
     "text": [
      "john 0\n",
      "jane 1\n",
      "jack 2\n",
      "jill 3\n"
     ]
    }
   ],
   "source": [
    "names = ['john','jane','jack','jill']\n",
    "for idx, name in enumerate(names):\n",
    "    print(name, idx)"
   ]
  },
  {
   "cell_type": "code",
   "execution_count": 7,
   "metadata": {},
   "outputs": [
    {
     "name": "stdout",
     "output_type": "stream",
     "text": [
      "5\n",
      "18\n",
      "39\n",
      "68\n",
      "105\n"
     ]
    }
   ],
   "source": [
    "x=[2,4,6,8,10]\n",
    "y=[1,3,5,7,9]\n",
    "z=[3,6,9,12,15]\n",
    "\n",
    "for i, j, k in zip(x,y,z):\n",
    "    print(i*j + k)\n"
   ]
  },
  {
   "cell_type": "code",
   "execution_count": 13,
   "metadata": {},
   "outputs": [
    {
     "name": "stdout",
     "output_type": "stream",
     "text": [
      "interstellear       1🌟\n",
      "the martian         2🌟\n",
      "gravity             3🌟\n",
      "appolo 13           4🌟\n"
     ]
    }
   ],
   "source": [
    "movies = ['interstellear','the martian','gravity','appolo 13']\n",
    "rating = [1,2,3,4]\n",
    "for name, star in zip(movies, rating):\n",
    "    print (f'{name:20}{star}🌟')\n"
   ]
  }
 ],
 "metadata": {
  "kernelspec": {
   "display_name": "base",
   "language": "python",
   "name": "python3"
  },
  "language_info": {
   "codemirror_mode": {
    "name": "ipython",
    "version": 3
   },
   "file_extension": ".py",
   "mimetype": "text/x-python",
   "name": "python",
   "nbconvert_exporter": "python",
   "pygments_lexer": "ipython3",
   "version": "3.10.10"
  },
  "orig_nbformat": 4
 },
 "nbformat": 4,
 "nbformat_minor": 2
}
