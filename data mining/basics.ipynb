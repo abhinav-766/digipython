{
 "cells": [
  {
   "cell_type": "code",
   "execution_count": null,
   "metadata": {},
   "outputs": [],
   "source": [
    "import requests"
   ]
  },
  {
   "cell_type": "code",
   "execution_count": null,
   "metadata": {},
   "outputs": [],
   "source": [
    "url = 'https://www.flipkart.com/search?q=bags&otracker=search&otracker1=search&marketplace=FLIPKART&as-show=on&as=off'\n",
    "response=requests.get(url)"
   ]
  },
  {
   "cell_type": "code",
   "execution_count": null,
   "metadata": {},
   "outputs": [],
   "source": [
    "print(response.text)"
   ]
  },
  {
   "cell_type": "code",
   "execution_count": null,
   "metadata": {},
   "outputs": [],
   "source": [
    "from bs4 import BeautifulSoup"
   ]
  },
  {
   "cell_type": "code",
   "execution_count": null,
   "metadata": {},
   "outputs": [],
   "source": [
    "soup = BeautifulSoup(response.text)\n",
    "print(soup)"
   ]
  },
  {
   "cell_type": "code",
   "execution_count": null,
   "metadata": {},
   "outputs": [],
   "source": [
    "soup.title"
   ]
  },
  {
   "cell_type": "code",
   "execution_count": null,
   "metadata": {},
   "outputs": [],
   "source": [
    "soup.find('a')"
   ]
  },
  {
   "cell_type": "code",
   "execution_count": null,
   "metadata": {},
   "outputs": [],
   "source": [
    "soup.findAll('a')"
   ]
  },
  {
   "cell_type": "code",
   "execution_count": null,
   "metadata": {},
   "outputs": [],
   "source": [
    "print(soup.text)"
   ]
  },
  {
   "cell_type": "code",
   "execution_count": null,
   "metadata": {},
   "outputs": [],
   "source": [
    "links = soup.findAll('a')\n",
    "for link in links:\n",
    "    print(link.text)\n",
    "    print(link.get('href'))"
   ]
  },
  {
   "cell_type": "code",
   "execution_count": null,
   "metadata": {},
   "outputs": [],
   "source": [
    "links = soup.findAll('h3')\n",
    "for link in links:\n",
    "    print(link.text)\n",
    "    print(link.get('href'))"
   ]
  },
  {
   "cell_type": "code",
   "execution_count": null,
   "metadata": {},
   "outputs": [],
   "source": [
    "headings = soup.findAll('h3')\n",
    "print('total headings found:' , len(headings))\n",
    "for items in headings:\n",
    "    print(items.text)"
   ]
  },
  {
   "cell_type": "code",
   "execution_count": null,
   "metadata": {},
   "outputs": [],
   "source": [
    "summaries = soup.findAll('span')\n",
    "print('total headings found:' , len(headings))\n",
    "for items in headings:\n",
    "    print(items.text)"
   ]
  },
  {
   "cell_type": "code",
   "execution_count": null,
   "metadata": {},
   "outputs": [],
   "source": [
    "area = soup.find_all('div' , class_ ='_1YokD2 _3Mn1Gg')\n",
    "print(len(area))"
   ]
  },
  {
   "cell_type": "code",
   "execution_count": null,
   "metadata": {},
   "outputs": [],
   "source": [
    "area[0].text"
   ]
  },
  {
   "cell_type": "code",
   "execution_count": null,
   "metadata": {},
   "outputs": [],
   "source": [
    "rows = soup.find_all('div', class_ = '_1AtVbE col-12-12')\n",
    "print(len(rows))"
   ]
  },
  {
   "cell_type": "code",
   "execution_count": null,
   "metadata": {},
   "outputs": [],
   "source": [
    "from sqlalchemy.orm import sessionmaker\n",
    "from sqlalchemy.engine import create_engine\n",
    "from database_orm import Product\n",
    "\n",
    "\n",
    "def open_db():\n",
    "engine-create_engine('sqlite:///scraper.sqlite, echo=True)\n",
    "Session sessionmaker (bind-engine)\n",
    "return Session()\n",
    " "
   ]
  },
  {
   "cell_type": "code",
   "execution_count": null,
   "metadata": {},
   "outputs": [],
   "source": [
    "total_elements = 0\n",
    "for row in rows:\n",
    "    items = row.find_all('div', class_ = '_1xHGtK _373qXS')\n",
    "    for item in items:\n",
    "        total_elements += 1\n",
    "        link  = item.find('a', class_ = '_2UzuFa')\n",
    "        container = item.find('div', '_2B099V')\n",
    "        sponsored = container.find('div', class_='_2I5qvP')\n",
    "        brand = container.find('div', class_='_2WkVRV')\n",
    "        title = container.find('a', class_='IRpwTa')\n",
    "        price = container.find('div', class_='_30jeq3')\n",
    "        oprice = container.find('div', class_='_3I9_wc')\n",
    "        discount = container.find('div', class_='_3Ay6Sb')\n",
    "        delivery = container.find('div', class_='_2Tpdn3')\n",
    "        deal_type = container.find('div', class_='_2Tpdn3 _18hQoS')\n",
    "        if sponsored:\n",
    "            print(\"ad\",sponsored.text)\n",
    "        print(\"brand\", brand.text)  \n",
    "        print(\"title\", title.get('title'))\n",
    "        print(\"price\",price.text)\n",
    "        print(\"oprice\",oprice.text)\n",
    "        print(\"discount\",discount.text)\n",
    "        print(\"delivery\",delivery.text)\n",
    "        print('-'*50)\n",
    "        \n",
    "print(total_elements)"
   ]
  },
  {
   "cell_type": "code",
   "execution_count": null,
   "metadata": {},
   "outputs": [],
   "source": []
  }
 ],
 "metadata": {
  "kernelspec": {
   "display_name": "base",
   "language": "python",
   "name": "python3"
  },
  "language_info": {
   "codemirror_mode": {
    "name": "ipython",
    "version": 3
   },
   "file_extension": ".py",
   "mimetype": "text/x-python",
   "name": "python",
   "nbconvert_exporter": "python",
   "pygments_lexer": "ipython3",
   "version": "3.10.10"
  },
  "orig_nbformat": 4
 },
 "nbformat": 4,
 "nbformat_minor": 2
}
