{
 "cells": [
  {
   "cell_type": "code",
   "execution_count": 28,
   "metadata": {},
   "outputs": [
    {
     "data": {
      "text/plain": [
       "[1, 2, 3, 4, 5, 6]"
      ]
     },
     "execution_count": 28,
     "metadata": {},
     "output_type": "execute_result"
    }
   ],
   "source": [
    "x = [1,2,3]\n",
    "y = [4,5,6]\n",
    "x+y"
   ]
  },
  {
   "cell_type": "code",
   "execution_count": 29,
   "metadata": {},
   "outputs": [],
   "source": [
    "class Area:\n",
    "    def __init__(self, l, b):\n",
    "        self.l = l\n",
    "        self.b = b\n",
    "        self.val = l*b \n",
    "\n",
    "\n",
    "        # add operator overloading\n",
    "        def __add__(self,other):\n",
    "            if isinstance(other, Area):\n",
    "                return self.val + other.val\n",
    "            elif isinstance(other, (int,float)):\n",
    "                return self.val +other\n",
    "            else:\n",
    "                return none\n",
    "\n"
   ]
  },
  {
   "cell_type": "code",
   "execution_count": 30,
   "metadata": {},
   "outputs": [
    {
     "ename": "TypeError",
     "evalue": "unsupported operand type(s) for +: 'Area' and 'Area'",
     "output_type": "error",
     "traceback": [
      "\u001b[1;31m---------------------------------------------------------------------------\u001b[0m",
      "\u001b[1;31mTypeError\u001b[0m                                 Traceback (most recent call last)",
      "Cell \u001b[1;32mIn[30], line 3\u001b[0m\n\u001b[0;32m      1\u001b[0m a \u001b[39m=\u001b[39m Area(\u001b[39m10\u001b[39m,\u001b[39m20\u001b[39m)\n\u001b[0;32m      2\u001b[0m b \u001b[39m=\u001b[39m Area(\u001b[39m20\u001b[39m,\u001b[39m30\u001b[39m)\n\u001b[1;32m----> 3\u001b[0m \u001b[39mprint\u001b[39m(a \u001b[39m+\u001b[39;49mb)\n\u001b[0;32m      4\u001b[0m \u001b[39mprint\u001b[39m(a\u001b[39m+\u001b[39m\u001b[39m10\u001b[39m)\n",
      "\u001b[1;31mTypeError\u001b[0m: unsupported operand type(s) for +: 'Area' and 'Area'"
     ]
    }
   ],
   "source": [
    "a = Area(10,20)\n",
    "b = Area(20,30)\n",
    "print(a +b)\n",
    "print(a+10)\n"
   ]
  },
  {
   "cell_type": "code",
   "execution_count": null,
   "metadata": {},
   "outputs": [],
   "source": [
    "class Student:\n",
    "    def __init__(self, name, klass, marks =[]):\n",
    "        self.name = name\n",
    "        self.klass = klass \n",
    "        self.marks = marks\n",
    "\n",
    "    def results(self):\n",
    "        return sum(self.marks)/len(self.marks)\n",
    "\n",
    "\n",
    "    def __lt__(self,other):\n",
    "        if isinstance(other , Students):\n",
    "            return self.result() < other.result()\n",
    "        \n",
    "    def __str__(self):\n",
    "        return f\"{self.name} from class {self.klass}\"\n",
    "    \n",
    "    def __repr__(self):\n",
    "        return self.name"
   ]
  },
  {
   "cell_type": "code",
   "execution_count": null,
   "metadata": {},
   "outputs": [],
   "source": [
    "s1 = Student(\"Ravi\", 3, marks=[95,63,41])\n",
    "s2 = Student('Arti', 5, marks=[95,73,71])\n",
    "s3 = Student(\"karan\",5, marks=[75,83,81])"
   ]
  },
  {
   "cell_type": "code",
   "execution_count": null,
   "metadata": {},
   "outputs": [],
   "source": [
    "print(s1)\n",
    "print(s2)\n",
    "print(s3)"
   ]
  },
  {
   "cell_type": "code",
   "execution_count": null,
   "metadata": {},
   "outputs": [],
   "source": [
    "[s1,s2,s3]"
   ]
  },
  {
   "cell_type": "code",
   "execution_count": null,
   "metadata": {},
   "outputs": [],
   "source": [
    "# data classes\n",
    "from dataclasses import dataclass"
   ]
  },
  {
   "cell_type": "code",
   "execution_count": null,
   "metadata": {},
   "outputs": [],
   "source": [
    "@dataclass\n",
    "class Contact:\n",
    "    name: str\n",
    "    phone : str\n",
    "    email : str"
   ]
  },
  {
   "cell_type": "code",
   "execution_count": null,
   "metadata": {},
   "outputs": [],
   "source": [
    "c = Contact(\"Ravi\", \"1234567890\", \"ravi@gmail.com\")\n",
    "c"
   ]
  },
  {
   "cell_type": "code",
   "execution_count": 31,
   "metadata": {},
   "outputs": [],
   "source": [
    "@dataclass\n",
    "class StudentV2:\n",
    "    name: str\n",
    "    phone : str\n",
    "    marks : str\n",
    "\n",
    "    def result(self):\n",
    "        return sum(self.marks)/len(self.marks)\n",
    "    \n"
   ]
  },
  {
   "cell_type": "code",
   "execution_count": 32,
   "metadata": {},
   "outputs": [
    {
     "name": "stdout",
     "output_type": "stream",
     "text": [
      "StudentV2(name='Alex', phone=10, marks=[23, 25, 23, 15, 23])\n",
      "21.8\n"
     ]
    }
   ],
   "source": [
    "s = StudentV2('Alex', 10, [23,25,23,15,23])\n",
    "s2 = StudentV2('Alexa', 10, [53,55,53,55,53])\n",
    "print(s)\n",
    "print(s.result())"
   ]
  }
 ],
 "metadata": {
  "kernelspec": {
   "display_name": "base",
   "language": "python",
   "name": "python3"
  },
  "language_info": {
   "codemirror_mode": {
    "name": "ipython",
    "version": 3
   },
   "file_extension": ".py",
   "mimetype": "text/x-python",
   "name": "python",
   "nbconvert_exporter": "python",
   "pygments_lexer": "ipython3",
   "version": "3.10.10"
  },
  "orig_nbformat": 4
 },
 "nbformat": 4,
 "nbformat_minor": 2
}
