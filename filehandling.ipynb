{
 "cells": [
  {
   "cell_type": "markdown",
   "metadata": {},
   "source": [
    "# file handling\n",
    "- open\n",
    "- read\n",
    "- write\n",
    "- append\n",
    "- close"
   ]
  },
  {
   "cell_type": "code",
   "execution_count": 1,
   "metadata": {},
   "outputs": [
    {
     "data": {
      "text/plain": [
       "<_io.TextIOWrapper name='t1.py' mode='r' encoding='UTF-8'>"
      ]
     },
     "execution_count": 1,
     "metadata": {},
     "output_type": "execute_result"
    }
   ],
   "source": [
    "open('t1.py')"
   ]
  },
  {
   "cell_type": "code",
   "execution_count": 4,
   "metadata": {},
   "outputs": [
    {
     "name": "stdout",
     "output_type": "stream",
     "text": [
      "from turtle import *\n",
      "\n",
      "speed('slowest')\n",
      "pencolor('red')\n",
      "\n",
      "# range(stop)\n",
      "\n",
      "for i in range(6,40, 5):\n",
      "    fd(120)\n",
      "    lt(60)\n",
      "    dot(10, 'green')\n",
      "    write(i, font=('Calibri', 20, 'bold'))\n",
      "\n",
      "    #reverse\n",
      "    goto(100,100)\n",
      "    for i in range(10,0,-1):\n",
      "        fd(60)\n",
      "        lt(60)\n",
      "        dot(20, 'red')\n",
      "        write(i, front=('calibri',20,'bold'))\n",
      "\n",
      "\n",
      "\n",
      "mainloop()\n"
     ]
    }
   ],
   "source": [
    "#reading a file using with statement\n",
    "with open('t1.py') as file:\n",
    "    content = file.read()\n",
    "print(content) \n",
    "   "
   ]
  },
  {
   "cell_type": "code",
   "execution_count": 5,
   "metadata": {},
   "outputs": [
    {
     "name": "stdout",
     "output_type": "stream",
     "text": [
      "from turtle import *\n",
      "\n",
      "speed('slowest')\n",
      "pencolor('red')\n",
      "\n",
      "# range(stop)\n",
      "\n",
      "for i in range(6,40, 5):\n",
      "    fd(120)\n",
      "    lt(60)\n",
      "    dot(10, 'green')\n",
      "    write(i, font=('Calibri', 20, 'bold'))\n",
      "\n",
      "    #reverse\n",
      "    goto(100,100)\n",
      "    for i in range(10,0,-1):\n",
      "        fd(60)\n",
      "        lt(60)\n",
      "        dot(20, 'red')\n",
      "        write(i, front=('calibri',20,'bold'))\n",
      "\n",
      "\n",
      "\n",
      "mainloop()\n"
     ]
    }
   ],
   "source": [
    "#reading a file using with encoding and errors ignored\n",
    "with open('t1.py', encoding='utf-8',errors='ignore') as file:\n",
    "    content = file.read()\n",
    "print(content)    "
   ]
  },
  {
   "cell_type": "code",
   "execution_count": 6,
   "metadata": {},
   "outputs": [
    {
     "name": "stdout",
     "output_type": "stream",
     "text": [
      "199412\n"
     ]
    }
   ],
   "source": [
    "path = r'C:\\Users\\Asus\\OneDrive\\Pictures\\zenitsu.jpeg'\n",
    "#open the file in read binary mode\n",
    "with open(path,'rb') as file:\n",
    "    bytes = file.read()\n",
    "print(len(bytes))    "
   ]
  },
  {
   "cell_type": "code",
   "execution_count": 7,
   "metadata": {},
   "outputs": [
    {
     "name": "stdout",
     "output_type": "stream",
     "text": [
      "✅ file created successfully\n"
     ]
    }
   ],
   "source": [
    "# creating a text file\n",
    "data = 'life before death\\nstrength before weakness\\njourney before destination'\n",
    "# 'w' is the write mode\n",
    "with open ('oaths.txt', 'w') as f:\n",
    "    f.write(data)\n",
    "    print('✅ file created successfully')"
   ]
  },
  {
   "cell_type": "code",
   "execution_count": 11,
   "metadata": {},
   "outputs": [
    {
     "name": "stdout",
     "output_type": "stream",
     "text": [
      "kahani khatam\n"
     ]
    }
   ],
   "source": [
    "with open('kahani.txt','w') as file:\n",
    "    while True:\n",
    "        line = input('>>>')\n",
    "        if not line:\n",
    "            break\n",
    "        file.writelines(line)\n",
    "    print('kahani khatam')    "
   ]
  },
  {
   "cell_type": "code",
   "execution_count": 12,
   "metadata": {},
   "outputs": [
    {
     "name": "stdout",
     "output_type": "stream",
     "text": [
      "file updated successfully\n"
     ]
    }
   ],
   "source": [
    "with open('oaths.txt','a') as file:\n",
    "    file.write('\\nthe first ideal of knight radiant\\n')\n",
    "    file.write('from the book : the way of kings\\n')\n",
    "    print('file updated successfully')"
   ]
  },
  {
   "cell_type": "markdown",
   "metadata": {},
   "source": [
    "OS library"
   ]
  },
  {
   "cell_type": "code",
   "execution_count": 13,
   "metadata": {},
   "outputs": [],
   "source": [
    "import os"
   ]
  },
  {
   "cell_type": "code",
   "execution_count": 14,
   "metadata": {},
   "outputs": [
    {
     "name": "stdout",
     "output_type": "stream",
     "text": [
      "the current path is:\n",
      "c:\\Users\\Asus\\OneDrive\\Desktop\\digipython\n"
     ]
    }
   ],
   "source": [
    "print('the current path is:')\n",
    "print(os.getcwd())"
   ]
  },
  {
   "cell_type": "code",
   "execution_count": null,
   "metadata": {},
   "outputs": [],
   "source": [
    "print('all the content in current directory:')\n",
    "os.listdir()\n"
   ]
  },
  {
   "cell_type": "code",
   "execution_count": 15,
   "metadata": {},
   "outputs": [
    {
     "name": "stdout",
     "output_type": "stream",
     "text": [
      "all the content of some other location\n"
     ]
    },
    {
     "data": {
      "text/plain": [
       "['addins',\n",
       " 'appcompat',\n",
       " 'apppatch',\n",
       " 'AppReadiness',\n",
       " 'AsCom_AV_McAfee_1Y_Ver.txt',\n",
       " 'AsDCDVer.txt',\n",
       " 'AsEDNVer.txt',\n",
       " 'AsHDIVer.txt',\n",
       " 'AsKitVer.txt',\n",
       " 'AsOFSVer.txt',\n",
       " 'AsPEToolVer.txt',\n",
       " 'AsProcKitVer.txt',\n",
       " 'assembly',\n",
       " 'AsToolCDVer.txt',\n",
       " 'ASUS',\n",
       " 'bcastdvr',\n",
       " 'bfsvc.exe',\n",
       " 'Boot',\n",
       " 'bootstat.dat',\n",
       " 'Branding',\n",
       " 'BrowserCore',\n",
       " 'CbsTemp',\n",
       " 'comsetup.log',\n",
       " 'Containers',\n",
       " 'Core.xml',\n",
       " 'CoreSingleLanguage.xml',\n",
       " 'csup.txt',\n",
       " 'Cursors',\n",
       " 'debug',\n",
       " 'diagerr.xml',\n",
       " 'diagnostics',\n",
       " 'DiagTrack',\n",
       " 'diagwrn.xml',\n",
       " 'DigitalLocker',\n",
       " 'DirectX.log',\n",
       " 'Downloaded Program Files',\n",
       " 'DtcInstall.log',\n",
       " 'ELAMBKUP',\n",
       " 'en-GB',\n",
       " 'en-US',\n",
       " 'explorer.exe',\n",
       " 'Firmware',\n",
       " 'Fonts',\n",
       " 'GameBarPresenceWriter',\n",
       " 'Globalization',\n",
       " 'Help',\n",
       " 'HelpPane.exe',\n",
       " 'hh.exe',\n",
       " 'IdentityCRL',\n",
       " 'IME',\n",
       " 'ImmersiveControlPanel',\n",
       " 'INF',\n",
       " 'InputMethod',\n",
       " 'Inst.log',\n",
       " 'Installer',\n",
       " 'Inst_AsModelCopy.log',\n",
       " 'Inst_CMD.log',\n",
       " 'Inst_Device.log',\n",
       " 'L2Schemas',\n",
       " 'LanguageOverlayCache',\n",
       " 'LiveKernelReports',\n",
       " 'Log',\n",
       " 'Logs',\n",
       " 'Media',\n",
       " 'mib.bin',\n",
       " 'Microsoft.NET',\n",
       " 'Migration',\n",
       " 'ModemLogs',\n",
       " 'notepad.exe',\n",
       " 'OCR',\n",
       " 'OEM',\n",
       " 'Offline Web Pages',\n",
       " 'Panther',\n",
       " 'Performance',\n",
       " 'PFRO.log',\n",
       " 'PLA',\n",
       " 'PolicyDefinitions',\n",
       " 'Prefetch',\n",
       " 'PrintDialog',\n",
       " 'Provisioning',\n",
       " 'regedit.exe',\n",
       " 'Registration',\n",
       " 'rescache',\n",
       " 'Resources',\n",
       " 'SchCache',\n",
       " 'schemas',\n",
       " 'security',\n",
       " 'ServiceProfiles',\n",
       " 'ServiceState',\n",
       " 'servicing',\n",
       " 'Setup',\n",
       " 'setuperr.log',\n",
       " 'ShellComponents',\n",
       " 'ShellExperiences',\n",
       " 'SKB',\n",
       " 'SoftwareDistribution',\n",
       " 'Speech',\n",
       " 'Speech_OneCore',\n",
       " 'splwow64.exe',\n",
       " 'System',\n",
       " 'system.ini',\n",
       " 'System32',\n",
       " 'SystemApps',\n",
       " 'SystemResources',\n",
       " 'SystemTemp',\n",
       " 'SysWOW64',\n",
       " 'TAPI',\n",
       " 'Tasks',\n",
       " 'Temp',\n",
       " 'tracing',\n",
       " 'twain_32',\n",
       " 'twain_32.dll',\n",
       " 'UUS',\n",
       " 'vgkbootstatus.dat',\n",
       " 'Vss',\n",
       " 'WaaS',\n",
       " 'Web',\n",
       " 'win.ini',\n",
       " 'WindowsShell.Manifest',\n",
       " 'WindowsUpdate.log',\n",
       " 'winhlp32.exe',\n",
       " 'WinSxS',\n",
       " 'WMSysPr9.prx',\n",
       " 'write.exe',\n",
       " 'WUModels']"
      ]
     },
     "execution_count": 15,
     "metadata": {},
     "output_type": "execute_result"
    }
   ],
   "source": [
    "print('all the content of some other location')\n",
    "path = 'C:/Windows/'\n",
    "os.listdir(path)"
   ]
  },
  {
   "cell_type": "code",
   "execution_count": 16,
   "metadata": {},
   "outputs": [
    {
     "ename": "SyntaxError",
     "evalue": "(unicode error) 'unicodeescape' codec can't decode bytes in position 2-3: truncated \\UXXXXXXXX escape (1315384520.py, line 1)",
     "output_type": "error",
     "traceback": [
      "\u001b[1;36m  Cell \u001b[1;32mIn[16], line 1\u001b[1;36m\u001b[0m\n\u001b[1;33m    for root, dirs, files in os.walk(\"C:\\Users\\Asus\\OneDrive\\Pictures\", topdown=False):\u001b[0m\n\u001b[1;37m                                                                      ^\u001b[0m\n\u001b[1;31mSyntaxError\u001b[0m\u001b[1;31m:\u001b[0m (unicode error) 'unicodeescape' codec can't decode bytes in position 2-3: truncated \\UXXXXXXXX escape\n"
     ]
    }
   ],
   "source": [
    "\n",
    "for root, dirs, files in os.walk(\"C:\\Users\\Asus\\OneDrive\\Pictures\", topdown=False):\n",
    "    for name in files:\n",
    "        print(os.path.join(root,name))\n",
    "    for name in dirs:\n",
    "        print(os.path.join(root,name))    \n"
   ]
  }
 ],
 "metadata": {
  "kernelspec": {
   "display_name": "base",
   "language": "python",
   "name": "python3"
  },
  "language_info": {
   "codemirror_mode": {
    "name": "ipython",
    "version": 3
   },
   "file_extension": ".py",
   "mimetype": "text/x-python",
   "name": "python",
   "nbconvert_exporter": "python",
   "pygments_lexer": "ipython3",
   "version": "3.10.10"
  },
  "orig_nbformat": 4
 },
 "nbformat": 4,
 "nbformat_minor": 2
}
