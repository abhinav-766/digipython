{
 "cells": [
  {
   "cell_type": "code",
   "execution_count": 1,
   "metadata": {},
   "outputs": [
    {
     "name": "stdout",
     "output_type": "stream",
     "text": [
      "{'English': 56, 'hindi': 90, 'maths': 34, 'Chemistry': 34, 'Evs': 56}\n"
     ]
    }
   ],
   "source": [
    "raju = [56,90,34,34,56]\n",
    "\n",
    "raju_dict = {\n",
    "    'English':56,\n",
    "    'hindi' :90,\n",
    "    'maths' :34,\n",
    "    'Chemistry' :34,\n",
    "    'Evs' :56\n",
    "}\n",
    "print(raju_dict)"
   ]
  },
  {
   "cell_type": "code",
   "execution_count": 2,
   "metadata": {},
   "outputs": [],
   "source": [
    "company = {\n",
    "    'emp001': {\n",
    "        'name':'Assistant III',\n",
    "        'salary': 32000,\n",
    "    },\n",
    "    'emp002':{\n",
    "        'name': 'ranu singh',\n",
    "        'destination': 'staff officer',\n",
    "        'salary':89000\n",
    "    },\n",
    "    'total_emp': 2,\n",
    "    'department':'Accounts',\n",
    "    'vacancy' : ['clerk','manager','assistant I']\n",
    "}"
   ]
  },
  {
   "cell_type": "code",
   "execution_count": 3,
   "metadata": {},
   "outputs": [
    {
     "name": "stdout",
     "output_type": "stream",
     "text": [
      "{'emp001': {'name': 'Assistant III', 'salary': 32000}, 'emp002': {'name': 'ranu singh', 'destination': 'staff officer', 'salary': 89000}, 'total_emp': 2, 'department': 'Accounts', 'vacancy': ['clerk', 'manager', 'assistant I'], 'name': 'Acme inc.'}\n"
     ]
    }
   ],
   "source": [
    "company['name']= 'Acme inc.'\n",
    "print(company)"
   ]
  },
  {
   "cell_type": "code",
   "execution_count": 4,
   "metadata": {},
   "outputs": [],
   "source": [
    "company['total_emp']=3\n",
    "company['emp003'] ={\n",
    "    'name' : 'ajay verma',\n",
    "    'designation' : 'clerk',\n",
    "    'salary' : 45000\n",
    "}"
   ]
  },
  {
   "cell_type": "code",
   "execution_count": 7,
   "metadata": {},
   "outputs": [
    {
     "data": {
      "text/plain": [
       "{'name': 'ajay verma', 'designation': 'clerk', 'salary': 45000}"
      ]
     },
     "execution_count": 7,
     "metadata": {},
     "output_type": "execute_result"
    }
   ],
   "source": [
    "company['emp003']"
   ]
  },
  {
   "cell_type": "code",
   "execution_count": 8,
   "metadata": {},
   "outputs": [],
   "source": [
    "company.get('website')"
   ]
  },
  {
   "cell_type": "code",
   "execution_count": 9,
   "metadata": {},
   "outputs": [],
   "source": [
    "if 'website' in company:\n",
    "    print('website exist in dict')\n",
    "    "
   ]
  },
  {
   "cell_type": "code",
   "execution_count": 10,
   "metadata": {},
   "outputs": [
    {
     "name": "stdout",
     "output_type": "stream",
     "text": [
      "dict_keys(['emp001', 'emp002', 'total_emp', 'department', 'vacancy', 'name', 'emp003'])\n",
      "dict_values([{'name': 'Assistant III', 'salary': 32000}, {'name': 'ranu singh', 'destination': 'staff officer', 'salary': 89000}, 3, 'Accounts', ['clerk', 'manager', 'assistant I'], 'Acme inc.', {'name': 'ajay verma', 'designation': 'clerk', 'salary': 45000}])\n"
     ]
    }
   ],
   "source": [
    "print(company.keys())\n",
    "print(company.values())"
   ]
  },
  {
   "cell_type": "code",
   "execution_count": 11,
   "metadata": {},
   "outputs": [
    {
     "name": "stdout",
     "output_type": "stream",
     "text": [
      "dict_items([('emp001', {'name': 'Assistant III', 'salary': 32000}), ('emp002', {'name': 'ranu singh', 'destination': 'staff officer', 'salary': 89000}), ('total_emp', 3), ('department', 'Accounts'), ('vacancy', ['clerk', 'manager', 'assistant I']), ('name', 'Acme inc.'), ('emp003', {'name': 'ajay verma', 'designation': 'clerk', 'salary': 45000})])\n"
     ]
    }
   ],
   "source": [
    "print(company.items())"
   ]
  },
  {
   "cell_type": "code",
   "execution_count": 13,
   "metadata": {},
   "outputs": [
    {
     "name": "stdout",
     "output_type": "stream",
     "text": [
      "{'name': 'Assistant III', 'salary': 32000}\n",
      "{'name': 'ranu singh', 'destination': 'staff officer', 'salary': 89000}\n",
      "3\n",
      "Accounts\n",
      "['clerk', 'manager', 'assistant I']\n",
      "Acme inc.\n",
      "{'name': 'ajay verma', 'designation': 'clerk', 'salary': 45000}\n"
     ]
    }
   ],
   "source": [
    "for i in company:\n",
    "    print(company[i])"
   ]
  },
  {
   "cell_type": "code",
   "execution_count": 14,
   "metadata": {},
   "outputs": [
    {
     "name": "stdout",
     "output_type": "stream",
     "text": [
      "emp001 {'name': 'Assistant III', 'salary': 32000}\n",
      "emp002 {'name': 'ranu singh', 'destination': 'staff officer', 'salary': 89000}\n",
      "total_emp 3\n",
      "department Accounts\n",
      "vacancy ['clerk', 'manager', 'assistant I']\n",
      "name Acme inc.\n",
      "emp003 {'name': 'ajay verma', 'designation': 'clerk', 'salary': 45000}\n"
     ]
    }
   ],
   "source": [
    "for k, v in company.items():\n",
    "    print(k,v)"
   ]
  },
  {
   "cell_type": "code",
   "execution_count": 15,
   "metadata": {},
   "outputs": [
    {
     "name": "stdout",
     "output_type": "stream",
     "text": [
      "emp001\n",
      "---> name Assistant III\n",
      "---> salary 32000\n",
      "emp002\n",
      "---> name ranu singh\n",
      "---> destination staff officer\n",
      "---> salary 89000\n",
      "total_emp 3\n",
      "department Accounts\n",
      "vacancy ['clerk', 'manager', 'assistant I']\n",
      "name Acme inc.\n",
      "emp003\n",
      "---> name ajay verma\n",
      "---> designation clerk\n",
      "---> salary 45000\n"
     ]
    }
   ],
   "source": [
    "for k, v in company.items():\n",
    "    if isinstance(v,dict):\n",
    "        print(k)\n",
    "        for key, value in v.items():\n",
    "            print(\"--->\",key,value)\n",
    "    else:\n",
    "        print(k,v)        "
   ]
  },
  {
   "cell_type": "markdown",
   "metadata": {},
   "source": [
    "WAP TO CREATE A DICTIONARY WHICH TAKES USER INPUTS AND STORES THE NAME OF ITEM AND IT'S PRICE\n",
    "The user can input unlimited inputs."
   ]
  },
  {
   "cell_type": "code",
   "execution_count": null,
   "metadata": {},
   "outputs": [],
   "source": [
    "dict = {\n",
    "}"
   ]
  }
 ],
 "metadata": {
  "kernelspec": {
   "display_name": "base",
   "language": "python",
   "name": "python3"
  },
  "language_info": {
   "codemirror_mode": {
    "name": "ipython",
    "version": 3
   },
   "file_extension": ".py",
   "mimetype": "text/x-python",
   "name": "python",
   "nbconvert_exporter": "python",
   "pygments_lexer": "ipython3",
   "version": "3.10.10"
  },
  "orig_nbformat": 4
 },
 "nbformat": 4,
 "nbformat_minor": 2
}
