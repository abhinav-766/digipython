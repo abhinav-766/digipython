{
 "cells": [
  {
   "cell_type": "code",
   "execution_count": null,
   "metadata": {},
   "outputs": [],
   "source": [
    "files = ['1.jpg','3.png','2.jpg','4.tif','5.jpg','10.png']\n",
    "jpg_files=[file for file in files if file.endswith('.jpg')]"
   ]
  }
 ],
 "metadata": {
  "language_info": {
   "name": "python"
  },
  "orig_nbformat": 4
 },
 "nbformat": 4,
 "nbformat_minor": 2
}
