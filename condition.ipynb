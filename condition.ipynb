{
 "cells": [
  {
   "cell_type": "markdown",
   "metadata": {},
   "source": [
    "condition\n",
    "- if\n",
    "- if else\n",
    "- if elif else\n",
    "- match case"
   ]
  },
  {
   "cell_type": "code",
   "execution_count": 1,
   "metadata": {},
   "outputs": [],
   "source": [
    "x= 10\n",
    "y= 3"
   ]
  },
  {
   "cell_type": "code",
   "execution_count": 4,
   "metadata": {},
   "outputs": [
    {
     "name": "stdout",
     "output_type": "stream",
     "text": [
      "x is greater than y\n",
      "that is true\n",
      "this is always printed\n"
     ]
    }
   ],
   "source": [
    "if x>y:\n",
    "    print(\"x is greater than y\")\n",
    "    print(\"that is true\")\n",
    "print('this is always printed')"
   ]
  },
  {
   "cell_type": "code",
   "execution_count": 5,
   "metadata": {},
   "outputs": [],
   "source": [
    "if x==y:\n",
    "    print('wow')"
   ]
  },
  {
   "cell_type": "code",
   "execution_count": 6,
   "metadata": {},
   "outputs": [
    {
     "name": "stdout",
     "output_type": "stream",
     "text": [
      "x is greater than y and x is greater thn 8\n"
     ]
    }
   ],
   "source": [
    "if x>y and x>8:\n",
    "    print('x is greater than y and x is greater thn 8')"
   ]
  },
  {
   "cell_type": "markdown",
   "metadata": {},
   "source": [
    "True Values\n",
    "- true\n",
    "- non zero number\n",
    "- non empty strings\n",
    "False Values\n",
    "- false\n",
    "- 0\n",
    "- 0.0\n",
    "- None\n",
    "- empty strings\n"
   ]
  },
  {
   "cell_type": "code",
   "execution_count": 7,
   "metadata": {},
   "outputs": [
    {
     "name": "stdout",
     "output_type": "stream",
     "text": [
      "you entered bhai sahab\n"
     ]
    }
   ],
   "source": [
    "name =input('enter a name')\n",
    "if name:\n",
    "    print(f'you entered {name}')\n",
    "else:\n",
    "    print('you didd not enter a name')"
   ]
  },
  {
   "cell_type": "code",
   "execution_count": 8,
   "metadata": {},
   "outputs": [
    {
     "name": "stdout",
     "output_type": "stream",
     "text": [
      "even\n"
     ]
    }
   ],
   "source": [
    "x =int(input('enter a number'))\n",
    "if x%2 ==0:\n",
    "    print('even')\n",
    "else:\n",
    "    print('odd')\n"
   ]
  },
  {
   "cell_type": "code",
   "execution_count": 11,
   "metadata": {},
   "outputs": [
    {
     "name": "stdout",
     "output_type": "stream",
     "text": [
      "Welcome abhinav\n"
     ]
    }
   ],
   "source": [
    "username = input('Enter username')\n",
    "password = input('Enter a password')\n",
    "if username == 'admin':\n",
    "    if password== '123admin':\n",
    "        print('Welcome abhinav')\n",
    "    else:\n",
    "        print('invalid password')\n",
    "else:\n",
    "    print('Invalid username')\n",
    "\n"
   ]
  },
  {
   "cell_type": "code",
   "execution_count": 12,
   "metadata": {},
   "outputs": [
    {
     "name": "stdout",
     "output_type": "stream",
     "text": [
      "monday\n"
     ]
    }
   ],
   "source": [
    "day = input('enter a day')\n",
    "if day == 'monday':\n",
    "    print('monday')\n",
    "elif day == 'tuesday':\n",
    "    print('tuesday')\n",
    "elif day == 'wednesday':\n",
    "    print('wednesday')\n",
    "else:\n",
    "    print('Holiday day')\n",
    "\n"
   ]
  },
  {
   "cell_type": "code",
   "execution_count": 13,
   "metadata": {},
   "outputs": [
    {
     "name": "stdout",
     "output_type": "stream",
     "text": [
      "weekend not really\n"
     ]
    }
   ],
   "source": [
    "day = input('enter day')\n",
    "match day:\n",
    "    case 'monday':\n",
    "        print('time to work')\n",
    "    case 'tuesday'|'wednesday':\n",
    "        print('time to work again')\n",
    "    case 'thursday':\n",
    "        print('almost there')\n",
    "    case 'friday':\n",
    "        print('weekend not really')\n",
    "    case _:\n",
    "        print('holiday')\n",
    "        \n",
    "        \n",
    "        "
   ]
  },
  {
   "cell_type": "code",
   "execution_count": 16,
   "metadata": {},
   "outputs": [
    {
     "name": "stdout",
     "output_type": "stream",
     "text": [
      "invalid\n"
     ]
    }
   ],
   "source": [
    "day = input('enter month')\n",
    "match day:\n",
    "    case 'january':\n",
    "        print('scorpio')\n",
    "    case 'february':\n",
    "        print('aquarius')\n",
    "    case 'march':\n",
    "        print('pisces')\n",
    "    case 'april':\n",
    "        print('aries')\n",
    "    case 'may':\n",
    "        print('tauras')\n",
    "    case _:\n",
    "        print('invalid')"
   ]
  },
  {
   "cell_type": "code",
   "execution_count": null,
   "metadata": {},
   "outputs": [],
   "source": []
  }
 ],
 "metadata": {
  "kernelspec": {
   "display_name": "base",
   "language": "python",
   "name": "python3"
  },
  "language_info": {
   "codemirror_mode": {
    "name": "ipython",
    "version": 3
   },
   "file_extension": ".py",
   "mimetype": "text/x-python",
   "name": "python",
   "nbconvert_exporter": "python",
   "pygments_lexer": "ipython3",
   "version": "3.10.10"
  },
  "orig_nbformat": 4
 },
 "nbformat": 4,
 "nbformat_minor": 2
}
