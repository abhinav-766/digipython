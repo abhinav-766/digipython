{
 "cells": [
  {
   "cell_type": "code",
   "execution_count": 2,
   "metadata": {},
   "outputs": [],
   "source": [
    "import flet as ft\n",
    "\n",
    "def main(page: ft.Page):\n",
    "    # add/update controls on Page\n",
    "    pass\n",
    "\n",
    "ft.app(target=main)"
   ]
  },
  {
   "cell_type": "code",
   "execution_count": 3,
   "metadata": {},
   "outputs": [],
   "source": [
    "t = ft.Text(value=\"Hello, world!\", color=\"green\")"
   ]
  },
  {
   "cell_type": "code",
   "execution_count": 11,
   "metadata": {},
   "outputs": [],
   "source": [
    "import flet as ft\n",
    "\n",
    "def main(page: ft.Page):\n",
    "    t = ft.Text(value=\"Hello, world!\", color=\"green\")\n",
    "    page.controls.append(t)\n",
    "    page.update()\n",
    "\n",
    "ft.app(target=main)"
   ]
  },
  {
   "cell_type": "code",
   "execution_count": 5,
   "metadata": {},
   "outputs": [],
   "source": [
    "import flet as ft\n",
    "\n",
    "def main(page):\n",
    "    def add_clicked(e):\n",
    "        page.add(ft.Checkbox(label=new_task.value))\n",
    "        new_task.value = \"\"\n",
    "        new_task.focus()\n",
    "        new_task.update()\n",
    "\n",
    "    new_task = ft.TextField(hint_text=\"Whats needs to be done?\", width=300)\n",
    "    page.add(ft.Row([new_task, ft.ElevatedButton(\"Add\", on_click=add_clicked)]))\n",
    "\n",
    "ft.app(target=main)"
   ]
  },
  {
   "cell_type": "code",
   "execution_count": 7,
   "metadata": {},
   "outputs": [],
   "source": [
    "import flet as ft\n",
    "\n",
    "def main(page):\n",
    "\n",
    "    first_name = ft.TextField(label=\"First name\", autofocus=True)\n",
    "    last_name = ft.TextField(label=\"Last name\")\n",
    "    greetings = ft.Column()\n",
    "\n",
    "    def btn_click(e):\n",
    "        greetings.controls.append(ft.Text(f\"Hello, {first_name.value} {last_name.value}!\"))\n",
    "        first_name.value = \"\"\n",
    "        last_name.value = \"\"\n",
    "        page.update()\n",
    "        first_name.focus()\n",
    "\n",
    "    page.add(\n",
    "        first_name,\n",
    "        last_name,\n",
    "        ft.ElevatedButton(\"Say hello!\", on_click=btn_click),\n",
    "        greetings,\n",
    "    )\n",
    "\n",
    "ft.app(target=main)"
   ]
  },
  {
   "cell_type": "markdown",
   "metadata": {},
   "source": [
    "BUTTONS"
   ]
  },
  {
   "cell_type": "code",
   "execution_count": 9,
   "metadata": {},
   "outputs": [],
   "source": [
    "import flet as ft\n",
    "\n",
    "def main(page: ft.Page):\n",
    "    page.title = \"Flet counter example\"\n",
    "    page.vertical_alignment = ft.MainAxisAlignment.CENTER\n",
    "\n",
    "    txt_number = ft.TextField(value=\"0\", text_align=\"right\", width=100)\n",
    "\n",
    "    def minus_click(e):\n",
    "        txt_number.value = str(int(txt_number.value) - 1)\n",
    "        page.update()\n",
    "\n",
    "    def plus_click(e):\n",
    "        txt_number.value = str(int(txt_number.value) + 1)\n",
    "        page.update()\n",
    "\n",
    "    page.add(\n",
    "        ft.Row(\n",
    "            [\n",
    "                ft.IconButton(ft.icons.REMOVE, on_click=minus_click),\n",
    "                txt_number,\n",
    "                ft.IconButton(ft.icons.ADD, on_click=plus_click),\n",
    "            ],\n",
    "            alignment=ft.MainAxisAlignment.CENTER,\n",
    "        )\n",
    "    )\n",
    "\n",
    "ft.app(target=main)"
   ]
  },
  {
   "cell_type": "code",
   "execution_count": 11,
   "metadata": {},
   "outputs": [],
   "source": [
    "import flet as ft\n",
    "\n",
    "def main(page):\n",
    "    def btn_click(e):\n",
    "        if not txt_name.value:\n",
    "            txt_name.error_text = \"Please enter your name\"\n",
    "            page.update()\n",
    "        else:\n",
    "            name = txt_name.value\n",
    "            page.clean()\n",
    "            page.add(ft.Text(f\"Hello, {name}!\"))\n",
    "\n",
    "    txt_name = ft.TextField(label=\"Your name\")\n",
    "\n",
    "    page.add(txt_name, ft.ElevatedButton(\"Say hello!\", on_click=btn_click))\n",
    "\n",
    "ft.app(target=main)"
   ]
  },
  {
   "cell_type": "markdown",
   "metadata": {},
   "source": [
    "-CHECKBOX"
   ]
  },
  {
   "cell_type": "code",
   "execution_count": null,
   "metadata": {},
   "outputs": [],
   "source": [
    "import flet as ft\n",
    "\n",
    "\n",
    "def main(page):\n",
    "    def checkbox_changed(e):\n",
    "        output_text.value = (\n",
    "            f\"You have learned how to ski :  {todo_check.value}.\"\n",
    "        )\n",
    "        page.update()\n",
    "\n",
    "    output_text = ft.Text()\n",
    "    todo_check = ft.Checkbox(label=\"ToDo: Learn how to use ski\", value=False, on_change=checkbox_changed)\n",
    "    page.add(todo_check, output_text)\n",
    "\n",
    "ft.app(target=main)"
   ]
  }
 ],
 "metadata": {
  "kernelspec": {
   "display_name": "base",
   "language": "python",
   "name": "python3"
  },
  "language_info": {
   "codemirror_mode": {
    "name": "ipython",
    "version": 3
   },
   "file_extension": ".py",
   "mimetype": "text/x-python",
   "name": "python",
   "nbconvert_exporter": "python",
   "pygments_lexer": "ipython3",
   "version": "3.10.10"
  },
  "orig_nbformat": 4
 },
 "nbformat": 4,
 "nbformat_minor": 2
}
